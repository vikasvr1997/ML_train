{
  "cells": [
    {
      "cell_type": "markdown",
      "metadata": {
        "id": "view-in-github",
        "colab_type": "text"
      },
      "source": [
        "<a href=\"https://colab.research.google.com/github/vikasvr1997/ML_train/blob/main/02_K_Nearest_Neighbors_Project.ipynb\" target=\"_parent\"><img src=\"https://colab.research.google.com/assets/colab-badge.svg\" alt=\"Open In Colab\"/></a>"
      ]
    },
    {
      "cell_type": "markdown",
      "metadata": {
        "id": "MVmTwt7__eYi"
      },
      "source": [
        "___\n",
        "\n",
        "<a href='http://www.pieriandata.com'> <img src='../Pierian_Data_Logo.png' /></a>\n",
        "___"
      ]
    },
    {
      "cell_type": "markdown",
      "metadata": {
        "id": "ypGZ_-59_eYl"
      },
      "source": [
        "# K Nearest Neighbors Project\n",
        "\n",
        "Welcome to the KNN Project! This will be a simple project very similar to the lecture, except you'll be given another data set. Go ahead and just follow the directions below.\n",
        "## Import Libraries\n",
        "**Import pandas,seaborn, and the usual libraries.**"
      ]
    },
    {
      "cell_type": "code",
      "execution_count": 192,
      "metadata": {
        "collapsed": true,
        "id": "oF0OGdA2_eYl"
      },
      "outputs": [],
      "source": [
        "import pandas as pd\n",
        "import numpy as np\n",
        "import matplotlib.pyplot as plt\n",
        "import seaborn as sns\n",
        "%matplotlib inline"
      ]
    },
    {
      "cell_type": "markdown",
      "source": [
        "Import necessary algorithms"
      ],
      "metadata": {
        "id": "B_Sjp2FfgxlR"
      }
    },
    {
      "cell_type": "code",
      "source": [
        "from sklearn.neighbors import KNeighborsClassifier\n",
        "from sklearn.linear_model import LogisticRegression\n",
        "from sklearn.naive_bayes import GaussianNB\n",
        "from sklearn.svm import SVC"
      ],
      "metadata": {
        "id": "CC_c8MM0gxAs"
      },
      "execution_count": 193,
      "outputs": []
    },
    {
      "cell_type": "markdown",
      "metadata": {
        "id": "Vc-rL_ec_eYl"
      },
      "source": [
        "## Get the Data\n",
        "** Read the 'KNN_Project_Data csv file into a dataframe **"
      ]
    },
    {
      "cell_type": "code",
      "execution_count": 194,
      "metadata": {
        "collapsed": true,
        "id": "cx3DEJfJ_eYm"
      },
      "outputs": [],
      "source": [
        "knn_data = pd.read_csv('/content/sample_data/KNN_Project_Data')"
      ]
    },
    {
      "cell_type": "markdown",
      "metadata": {
        "id": "QPQsqRxD_eYm"
      },
      "source": [
        "**Check the head of the dataframe.**"
      ]
    },
    {
      "cell_type": "code",
      "execution_count": 195,
      "metadata": {
        "colab": {
          "base_uri": "https://localhost:8080/",
          "height": 204
        },
        "id": "7jCC9IYe_eYm",
        "outputId": "afed35b0-203b-40bf-e4e3-9883fb66bedb"
      },
      "outputs": [
        {
          "output_type": "execute_result",
          "data": {
            "text/plain": [
              "          XVPM         GWYH         TRAT        TLLZ         IGGA  \\\n",
              "0  1636.670614   817.988525  2565.995189  358.347163   550.417491   \n",
              "1  1013.402760   577.587332  2644.141273  280.428203  1161.873391   \n",
              "2  1300.035501   820.518697  2025.854469  525.562292   922.206261   \n",
              "3  1059.347542  1066.866418   612.000041  480.827789   419.467495   \n",
              "4  1018.340526  1313.679056   950.622661  724.742174   843.065903   \n",
              "\n",
              "          HYKR         EDFS        GUUB         MGJM         JHZC  \\\n",
              "0  1618.870897  2147.641254  330.727893  1494.878631   845.136088   \n",
              "1  2084.107872   853.404981  447.157619  1193.032521   861.081809   \n",
              "2  2552.355407   818.676686  845.491492  1968.367513  1647.186291   \n",
              "3   685.666983   852.867810  341.664784  1154.391368  1450.935357   \n",
              "4  1370.554164   905.469453  658.118202   539.459350  1899.850792   \n",
              "\n",
              "   TARGET CLASS  \n",
              "0             0  \n",
              "1             1  \n",
              "2             1  \n",
              "3             0  \n",
              "4             0  "
            ],
            "text/html": [
              "\n",
              "  <div id=\"df-1403570b-8b01-40db-bc7f-dce02de69ae9\" class=\"colab-df-container\">\n",
              "    <div>\n",
              "<style scoped>\n",
              "    .dataframe tbody tr th:only-of-type {\n",
              "        vertical-align: middle;\n",
              "    }\n",
              "\n",
              "    .dataframe tbody tr th {\n",
              "        vertical-align: top;\n",
              "    }\n",
              "\n",
              "    .dataframe thead th {\n",
              "        text-align: right;\n",
              "    }\n",
              "</style>\n",
              "<table border=\"1\" class=\"dataframe\">\n",
              "  <thead>\n",
              "    <tr style=\"text-align: right;\">\n",
              "      <th></th>\n",
              "      <th>XVPM</th>\n",
              "      <th>GWYH</th>\n",
              "      <th>TRAT</th>\n",
              "      <th>TLLZ</th>\n",
              "      <th>IGGA</th>\n",
              "      <th>HYKR</th>\n",
              "      <th>EDFS</th>\n",
              "      <th>GUUB</th>\n",
              "      <th>MGJM</th>\n",
              "      <th>JHZC</th>\n",
              "      <th>TARGET CLASS</th>\n",
              "    </tr>\n",
              "  </thead>\n",
              "  <tbody>\n",
              "    <tr>\n",
              "      <th>0</th>\n",
              "      <td>1636.670614</td>\n",
              "      <td>817.988525</td>\n",
              "      <td>2565.995189</td>\n",
              "      <td>358.347163</td>\n",
              "      <td>550.417491</td>\n",
              "      <td>1618.870897</td>\n",
              "      <td>2147.641254</td>\n",
              "      <td>330.727893</td>\n",
              "      <td>1494.878631</td>\n",
              "      <td>845.136088</td>\n",
              "      <td>0</td>\n",
              "    </tr>\n",
              "    <tr>\n",
              "      <th>1</th>\n",
              "      <td>1013.402760</td>\n",
              "      <td>577.587332</td>\n",
              "      <td>2644.141273</td>\n",
              "      <td>280.428203</td>\n",
              "      <td>1161.873391</td>\n",
              "      <td>2084.107872</td>\n",
              "      <td>853.404981</td>\n",
              "      <td>447.157619</td>\n",
              "      <td>1193.032521</td>\n",
              "      <td>861.081809</td>\n",
              "      <td>1</td>\n",
              "    </tr>\n",
              "    <tr>\n",
              "      <th>2</th>\n",
              "      <td>1300.035501</td>\n",
              "      <td>820.518697</td>\n",
              "      <td>2025.854469</td>\n",
              "      <td>525.562292</td>\n",
              "      <td>922.206261</td>\n",
              "      <td>2552.355407</td>\n",
              "      <td>818.676686</td>\n",
              "      <td>845.491492</td>\n",
              "      <td>1968.367513</td>\n",
              "      <td>1647.186291</td>\n",
              "      <td>1</td>\n",
              "    </tr>\n",
              "    <tr>\n",
              "      <th>3</th>\n",
              "      <td>1059.347542</td>\n",
              "      <td>1066.866418</td>\n",
              "      <td>612.000041</td>\n",
              "      <td>480.827789</td>\n",
              "      <td>419.467495</td>\n",
              "      <td>685.666983</td>\n",
              "      <td>852.867810</td>\n",
              "      <td>341.664784</td>\n",
              "      <td>1154.391368</td>\n",
              "      <td>1450.935357</td>\n",
              "      <td>0</td>\n",
              "    </tr>\n",
              "    <tr>\n",
              "      <th>4</th>\n",
              "      <td>1018.340526</td>\n",
              "      <td>1313.679056</td>\n",
              "      <td>950.622661</td>\n",
              "      <td>724.742174</td>\n",
              "      <td>843.065903</td>\n",
              "      <td>1370.554164</td>\n",
              "      <td>905.469453</td>\n",
              "      <td>658.118202</td>\n",
              "      <td>539.459350</td>\n",
              "      <td>1899.850792</td>\n",
              "      <td>0</td>\n",
              "    </tr>\n",
              "  </tbody>\n",
              "</table>\n",
              "</div>\n",
              "    <div class=\"colab-df-buttons\">\n",
              "\n",
              "  <div class=\"colab-df-container\">\n",
              "    <button class=\"colab-df-convert\" onclick=\"convertToInteractive('df-1403570b-8b01-40db-bc7f-dce02de69ae9')\"\n",
              "            title=\"Convert this dataframe to an interactive table.\"\n",
              "            style=\"display:none;\">\n",
              "\n",
              "  <svg xmlns=\"http://www.w3.org/2000/svg\" height=\"24px\" viewBox=\"0 -960 960 960\">\n",
              "    <path d=\"M120-120v-720h720v720H120Zm60-500h600v-160H180v160Zm220 220h160v-160H400v160Zm0 220h160v-160H400v160ZM180-400h160v-160H180v160Zm440 0h160v-160H620v160ZM180-180h160v-160H180v160Zm440 0h160v-160H620v160Z\"/>\n",
              "  </svg>\n",
              "    </button>\n",
              "\n",
              "  <style>\n",
              "    .colab-df-container {\n",
              "      display:flex;\n",
              "      gap: 12px;\n",
              "    }\n",
              "\n",
              "    .colab-df-convert {\n",
              "      background-color: #E8F0FE;\n",
              "      border: none;\n",
              "      border-radius: 50%;\n",
              "      cursor: pointer;\n",
              "      display: none;\n",
              "      fill: #1967D2;\n",
              "      height: 32px;\n",
              "      padding: 0 0 0 0;\n",
              "      width: 32px;\n",
              "    }\n",
              "\n",
              "    .colab-df-convert:hover {\n",
              "      background-color: #E2EBFA;\n",
              "      box-shadow: 0px 1px 2px rgba(60, 64, 67, 0.3), 0px 1px 3px 1px rgba(60, 64, 67, 0.15);\n",
              "      fill: #174EA6;\n",
              "    }\n",
              "\n",
              "    .colab-df-buttons div {\n",
              "      margin-bottom: 4px;\n",
              "    }\n",
              "\n",
              "    [theme=dark] .colab-df-convert {\n",
              "      background-color: #3B4455;\n",
              "      fill: #D2E3FC;\n",
              "    }\n",
              "\n",
              "    [theme=dark] .colab-df-convert:hover {\n",
              "      background-color: #434B5C;\n",
              "      box-shadow: 0px 1px 3px 1px rgba(0, 0, 0, 0.15);\n",
              "      filter: drop-shadow(0px 1px 2px rgba(0, 0, 0, 0.3));\n",
              "      fill: #FFFFFF;\n",
              "    }\n",
              "  </style>\n",
              "\n",
              "    <script>\n",
              "      const buttonEl =\n",
              "        document.querySelector('#df-1403570b-8b01-40db-bc7f-dce02de69ae9 button.colab-df-convert');\n",
              "      buttonEl.style.display =\n",
              "        google.colab.kernel.accessAllowed ? 'block' : 'none';\n",
              "\n",
              "      async function convertToInteractive(key) {\n",
              "        const element = document.querySelector('#df-1403570b-8b01-40db-bc7f-dce02de69ae9');\n",
              "        const dataTable =\n",
              "          await google.colab.kernel.invokeFunction('convertToInteractive',\n",
              "                                                    [key], {});\n",
              "        if (!dataTable) return;\n",
              "\n",
              "        const docLinkHtml = 'Like what you see? Visit the ' +\n",
              "          '<a target=\"_blank\" href=https://colab.research.google.com/notebooks/data_table.ipynb>data table notebook</a>'\n",
              "          + ' to learn more about interactive tables.';\n",
              "        element.innerHTML = '';\n",
              "        dataTable['output_type'] = 'display_data';\n",
              "        await google.colab.output.renderOutput(dataTable, element);\n",
              "        const docLink = document.createElement('div');\n",
              "        docLink.innerHTML = docLinkHtml;\n",
              "        element.appendChild(docLink);\n",
              "      }\n",
              "    </script>\n",
              "  </div>\n",
              "\n",
              "\n",
              "<div id=\"df-a531527e-8a31-4d35-abd9-3cd32305e197\">\n",
              "  <button class=\"colab-df-quickchart\" onclick=\"quickchart('df-a531527e-8a31-4d35-abd9-3cd32305e197')\"\n",
              "            title=\"Suggest charts\"\n",
              "            style=\"display:none;\">\n",
              "\n",
              "<svg xmlns=\"http://www.w3.org/2000/svg\" height=\"24px\"viewBox=\"0 0 24 24\"\n",
              "     width=\"24px\">\n",
              "    <g>\n",
              "        <path d=\"M19 3H5c-1.1 0-2 .9-2 2v14c0 1.1.9 2 2 2h14c1.1 0 2-.9 2-2V5c0-1.1-.9-2-2-2zM9 17H7v-7h2v7zm4 0h-2V7h2v10zm4 0h-2v-4h2v4z\"/>\n",
              "    </g>\n",
              "</svg>\n",
              "  </button>\n",
              "\n",
              "<style>\n",
              "  .colab-df-quickchart {\n",
              "      --bg-color: #E8F0FE;\n",
              "      --fill-color: #1967D2;\n",
              "      --hover-bg-color: #E2EBFA;\n",
              "      --hover-fill-color: #174EA6;\n",
              "      --disabled-fill-color: #AAA;\n",
              "      --disabled-bg-color: #DDD;\n",
              "  }\n",
              "\n",
              "  [theme=dark] .colab-df-quickchart {\n",
              "      --bg-color: #3B4455;\n",
              "      --fill-color: #D2E3FC;\n",
              "      --hover-bg-color: #434B5C;\n",
              "      --hover-fill-color: #FFFFFF;\n",
              "      --disabled-bg-color: #3B4455;\n",
              "      --disabled-fill-color: #666;\n",
              "  }\n",
              "\n",
              "  .colab-df-quickchart {\n",
              "    background-color: var(--bg-color);\n",
              "    border: none;\n",
              "    border-radius: 50%;\n",
              "    cursor: pointer;\n",
              "    display: none;\n",
              "    fill: var(--fill-color);\n",
              "    height: 32px;\n",
              "    padding: 0;\n",
              "    width: 32px;\n",
              "  }\n",
              "\n",
              "  .colab-df-quickchart:hover {\n",
              "    background-color: var(--hover-bg-color);\n",
              "    box-shadow: 0 1px 2px rgba(60, 64, 67, 0.3), 0 1px 3px 1px rgba(60, 64, 67, 0.15);\n",
              "    fill: var(--button-hover-fill-color);\n",
              "  }\n",
              "\n",
              "  .colab-df-quickchart-complete:disabled,\n",
              "  .colab-df-quickchart-complete:disabled:hover {\n",
              "    background-color: var(--disabled-bg-color);\n",
              "    fill: var(--disabled-fill-color);\n",
              "    box-shadow: none;\n",
              "  }\n",
              "\n",
              "  .colab-df-spinner {\n",
              "    border: 2px solid var(--fill-color);\n",
              "    border-color: transparent;\n",
              "    border-bottom-color: var(--fill-color);\n",
              "    animation:\n",
              "      spin 1s steps(1) infinite;\n",
              "  }\n",
              "\n",
              "  @keyframes spin {\n",
              "    0% {\n",
              "      border-color: transparent;\n",
              "      border-bottom-color: var(--fill-color);\n",
              "      border-left-color: var(--fill-color);\n",
              "    }\n",
              "    20% {\n",
              "      border-color: transparent;\n",
              "      border-left-color: var(--fill-color);\n",
              "      border-top-color: var(--fill-color);\n",
              "    }\n",
              "    30% {\n",
              "      border-color: transparent;\n",
              "      border-left-color: var(--fill-color);\n",
              "      border-top-color: var(--fill-color);\n",
              "      border-right-color: var(--fill-color);\n",
              "    }\n",
              "    40% {\n",
              "      border-color: transparent;\n",
              "      border-right-color: var(--fill-color);\n",
              "      border-top-color: var(--fill-color);\n",
              "    }\n",
              "    60% {\n",
              "      border-color: transparent;\n",
              "      border-right-color: var(--fill-color);\n",
              "    }\n",
              "    80% {\n",
              "      border-color: transparent;\n",
              "      border-right-color: var(--fill-color);\n",
              "      border-bottom-color: var(--fill-color);\n",
              "    }\n",
              "    90% {\n",
              "      border-color: transparent;\n",
              "      border-bottom-color: var(--fill-color);\n",
              "    }\n",
              "  }\n",
              "</style>\n",
              "\n",
              "  <script>\n",
              "    async function quickchart(key) {\n",
              "      const quickchartButtonEl =\n",
              "        document.querySelector('#' + key + ' button');\n",
              "      quickchartButtonEl.disabled = true;  // To prevent multiple clicks.\n",
              "      quickchartButtonEl.classList.add('colab-df-spinner');\n",
              "      try {\n",
              "        const charts = await google.colab.kernel.invokeFunction(\n",
              "            'suggestCharts', [key], {});\n",
              "      } catch (error) {\n",
              "        console.error('Error during call to suggestCharts:', error);\n",
              "      }\n",
              "      quickchartButtonEl.classList.remove('colab-df-spinner');\n",
              "      quickchartButtonEl.classList.add('colab-df-quickchart-complete');\n",
              "    }\n",
              "    (() => {\n",
              "      let quickchartButtonEl =\n",
              "        document.querySelector('#df-a531527e-8a31-4d35-abd9-3cd32305e197 button');\n",
              "      quickchartButtonEl.style.display =\n",
              "        google.colab.kernel.accessAllowed ? 'block' : 'none';\n",
              "    })();\n",
              "  </script>\n",
              "</div>\n",
              "\n",
              "    </div>\n",
              "  </div>\n"
            ]
          },
          "metadata": {},
          "execution_count": 195
        }
      ],
      "source": [
        "knn_data.head()"
      ]
    },
    {
      "cell_type": "markdown",
      "metadata": {
        "id": "9fgZbJNb_eYm"
      },
      "source": [
        "# EDA\n",
        "\n",
        "Since this data is artificial, we'll just do a large pairplot with seaborn.\n",
        "\n",
        "**Use seaborn on the dataframe to create a pairplot with the hue indicated by the TARGET CLASS column.**"
      ]
    },
    {
      "cell_type": "code",
      "execution_count": 196,
      "metadata": {
        "id": "QmDkzpoW_eYm"
      },
      "outputs": [],
      "source": [
        "#sns.pairplot(knn_data, hue = 'TARGET CLASS',diag_kind='hist', palette='coolwarm')"
      ]
    },
    {
      "cell_type": "markdown",
      "metadata": {
        "id": "-RzOOa5X_eYn"
      },
      "source": [
        "# Standardize the Variables\n",
        "\n",
        "Time to standardize the variables.\n",
        "\n",
        "** Import StandardScaler from Scikit learn.**"
      ]
    },
    {
      "cell_type": "code",
      "execution_count": 197,
      "metadata": {
        "collapsed": true,
        "id": "iAfTNQi7_eYn"
      },
      "outputs": [],
      "source": [
        "from sklearn.preprocessing import MinMaxScaler, StandardScaler"
      ]
    },
    {
      "cell_type": "markdown",
      "metadata": {
        "id": "__lO4WQR_eYn"
      },
      "source": [
        "** Create a StandardScaler() object called scaler.**"
      ]
    },
    {
      "cell_type": "code",
      "execution_count": 198,
      "metadata": {
        "collapsed": true,
        "id": "YnWHlTGP_eYn"
      },
      "outputs": [],
      "source": [
        "scalar = StandardScaler()"
      ]
    },
    {
      "cell_type": "markdown",
      "metadata": {
        "id": "y0IHwWLI_eYn"
      },
      "source": [
        "** Fit scaler to the features.**"
      ]
    },
    {
      "cell_type": "code",
      "execution_count": 199,
      "metadata": {
        "colab": {
          "base_uri": "https://localhost:8080/",
          "height": 74
        },
        "id": "JeOLV2ot_eYn",
        "outputId": "0a124fbf-b1d7-449d-bab0-053304374b64"
      },
      "outputs": [
        {
          "output_type": "execute_result",
          "data": {
            "text/plain": [
              "StandardScaler()"
            ],
            "text/html": [
              "<style>#sk-container-id-13 {color: black;background-color: white;}#sk-container-id-13 pre{padding: 0;}#sk-container-id-13 div.sk-toggleable {background-color: white;}#sk-container-id-13 label.sk-toggleable__label {cursor: pointer;display: block;width: 100%;margin-bottom: 0;padding: 0.3em;box-sizing: border-box;text-align: center;}#sk-container-id-13 label.sk-toggleable__label-arrow:before {content: \"▸\";float: left;margin-right: 0.25em;color: #696969;}#sk-container-id-13 label.sk-toggleable__label-arrow:hover:before {color: black;}#sk-container-id-13 div.sk-estimator:hover label.sk-toggleable__label-arrow:before {color: black;}#sk-container-id-13 div.sk-toggleable__content {max-height: 0;max-width: 0;overflow: hidden;text-align: left;background-color: #f0f8ff;}#sk-container-id-13 div.sk-toggleable__content pre {margin: 0.2em;color: black;border-radius: 0.25em;background-color: #f0f8ff;}#sk-container-id-13 input.sk-toggleable__control:checked~div.sk-toggleable__content {max-height: 200px;max-width: 100%;overflow: auto;}#sk-container-id-13 input.sk-toggleable__control:checked~label.sk-toggleable__label-arrow:before {content: \"▾\";}#sk-container-id-13 div.sk-estimator input.sk-toggleable__control:checked~label.sk-toggleable__label {background-color: #d4ebff;}#sk-container-id-13 div.sk-label input.sk-toggleable__control:checked~label.sk-toggleable__label {background-color: #d4ebff;}#sk-container-id-13 input.sk-hidden--visually {border: 0;clip: rect(1px 1px 1px 1px);clip: rect(1px, 1px, 1px, 1px);height: 1px;margin: -1px;overflow: hidden;padding: 0;position: absolute;width: 1px;}#sk-container-id-13 div.sk-estimator {font-family: monospace;background-color: #f0f8ff;border: 1px dotted black;border-radius: 0.25em;box-sizing: border-box;margin-bottom: 0.5em;}#sk-container-id-13 div.sk-estimator:hover {background-color: #d4ebff;}#sk-container-id-13 div.sk-parallel-item::after {content: \"\";width: 100%;border-bottom: 1px solid gray;flex-grow: 1;}#sk-container-id-13 div.sk-label:hover label.sk-toggleable__label {background-color: #d4ebff;}#sk-container-id-13 div.sk-serial::before {content: \"\";position: absolute;border-left: 1px solid gray;box-sizing: border-box;top: 0;bottom: 0;left: 50%;z-index: 0;}#sk-container-id-13 div.sk-serial {display: flex;flex-direction: column;align-items: center;background-color: white;padding-right: 0.2em;padding-left: 0.2em;position: relative;}#sk-container-id-13 div.sk-item {position: relative;z-index: 1;}#sk-container-id-13 div.sk-parallel {display: flex;align-items: stretch;justify-content: center;background-color: white;position: relative;}#sk-container-id-13 div.sk-item::before, #sk-container-id-13 div.sk-parallel-item::before {content: \"\";position: absolute;border-left: 1px solid gray;box-sizing: border-box;top: 0;bottom: 0;left: 50%;z-index: -1;}#sk-container-id-13 div.sk-parallel-item {display: flex;flex-direction: column;z-index: 1;position: relative;background-color: white;}#sk-container-id-13 div.sk-parallel-item:first-child::after {align-self: flex-end;width: 50%;}#sk-container-id-13 div.sk-parallel-item:last-child::after {align-self: flex-start;width: 50%;}#sk-container-id-13 div.sk-parallel-item:only-child::after {width: 0;}#sk-container-id-13 div.sk-dashed-wrapped {border: 1px dashed gray;margin: 0 0.4em 0.5em 0.4em;box-sizing: border-box;padding-bottom: 0.4em;background-color: white;}#sk-container-id-13 div.sk-label label {font-family: monospace;font-weight: bold;display: inline-block;line-height: 1.2em;}#sk-container-id-13 div.sk-label-container {text-align: center;}#sk-container-id-13 div.sk-container {/* jupyter's `normalize.less` sets `[hidden] { display: none; }` but bootstrap.min.css set `[hidden] { display: none !important; }` so we also need the `!important` here to be able to override the default hidden behavior on the sphinx rendered scikit-learn.org. See: https://github.com/scikit-learn/scikit-learn/issues/21755 */display: inline-block !important;position: relative;}#sk-container-id-13 div.sk-text-repr-fallback {display: none;}</style><div id=\"sk-container-id-13\" class=\"sk-top-container\"><div class=\"sk-text-repr-fallback\"><pre>StandardScaler()</pre><b>In a Jupyter environment, please rerun this cell to show the HTML representation or trust the notebook. <br />On GitHub, the HTML representation is unable to render, please try loading this page with nbviewer.org.</b></div><div class=\"sk-container\" hidden><div class=\"sk-item\"><div class=\"sk-estimator sk-toggleable\"><input class=\"sk-toggleable__control sk-hidden--visually\" id=\"sk-estimator-id-13\" type=\"checkbox\" checked><label for=\"sk-estimator-id-13\" class=\"sk-toggleable__label sk-toggleable__label-arrow\">StandardScaler</label><div class=\"sk-toggleable__content\"><pre>StandardScaler()</pre></div></div></div></div></div>"
            ]
          },
          "metadata": {},
          "execution_count": 199
        }
      ],
      "source": [
        "scalar.fit(knn_data.drop('TARGET CLASS',axis=1))"
      ]
    },
    {
      "cell_type": "markdown",
      "metadata": {
        "id": "ZhkvethH_eYn"
      },
      "source": [
        "**Use the .transform() method to transform the features to a scaled version.**"
      ]
    },
    {
      "cell_type": "code",
      "execution_count": 200,
      "metadata": {
        "collapsed": true,
        "colab": {
          "base_uri": "https://localhost:8080/"
        },
        "id": "yxXDMAFg_eYo",
        "outputId": "61652628-666e-40cf-dabe-42400f6a401e"
      },
      "outputs": [
        {
          "output_type": "execute_result",
          "data": {
            "text/plain": [
              "array([[ 1.56852168, -0.44343461,  1.61980773, ..., -0.93279392,\n",
              "         1.00831307, -1.06962723],\n",
              "       [-0.11237594, -1.05657361,  1.7419175 , ..., -0.46186435,\n",
              "         0.25832069, -1.04154625],\n",
              "       [ 0.66064691, -0.43698145,  0.77579285, ...,  1.14929806,\n",
              "         2.1847836 ,  0.34281129],\n",
              "       ...,\n",
              "       [-0.35889496, -0.97901454,  0.83771499, ..., -1.51472604,\n",
              "        -0.27512225,  0.86428656],\n",
              "       [ 0.27507999, -0.99239881,  0.0303711 , ..., -0.03623294,\n",
              "         0.43668516, -0.21245586],\n",
              "       [ 0.62589594,  0.79510909,  1.12180047, ..., -1.25156478,\n",
              "        -0.60352946, -0.87985868]])"
            ]
          },
          "metadata": {},
          "execution_count": 200
        }
      ],
      "source": [
        "scaled_features = scalar.fit_transform(knn_data.drop('TARGET CLASS',axis=1))\n",
        "scaled_features"
      ]
    },
    {
      "cell_type": "markdown",
      "metadata": {
        "id": "l_oBD9JI_eYo"
      },
      "source": [
        "**Convert the scaled features to a dataframe and check the head of this dataframe to make sure the scaling worked.**"
      ]
    },
    {
      "cell_type": "code",
      "execution_count": 201,
      "metadata": {
        "colab": {
          "base_uri": "https://localhost:8080/",
          "height": 419
        },
        "id": "FiDabFgZ_eYo",
        "outputId": "07b6def0-479a-4ff6-9734-b306b4eeb916"
      },
      "outputs": [
        {
          "output_type": "execute_result",
          "data": {
            "text/plain": [
              "         XVPM      GWYH      TRAT      TLLZ      IGGA      HYKR      EDFS  \\\n",
              "0    1.568522 -0.443435  1.619808 -0.958255 -1.128481  0.138336  0.980493   \n",
              "1   -0.112376 -1.056574  1.741918 -1.504220  0.640009  1.081552 -1.182663   \n",
              "2    0.660647 -0.436981  0.775793  0.213394 -0.053171  2.030872 -1.240707   \n",
              "3    0.011533  0.191324 -1.433473 -0.100053 -1.507223 -1.753632 -1.183561   \n",
              "4   -0.099059  0.820815 -0.904346  1.609015 -0.282065 -0.365099 -1.095644   \n",
              "..        ...       ...       ...       ...       ...       ...       ...   \n",
              "995  0.776682  0.758234 -1.753322  0.507699  0.174588 -1.279354 -1.797957   \n",
              "996 -0.313446  0.385206  0.885502 -0.083136 -1.208486  0.309242  0.746346   \n",
              "997 -0.358895 -0.979015  0.837715  0.014018 -1.397424  0.054473  0.164120   \n",
              "998  0.275080 -0.992399  0.030371  1.062954  1.142871 -0.192872  2.051386   \n",
              "999  0.625896  0.795109  1.121800  1.185944  0.555582 -1.133032  0.746559   \n",
              "\n",
              "         GUUB      MGJM      JHZC  \n",
              "0   -0.932794  1.008313 -1.069627  \n",
              "1   -0.461864  0.258321 -1.041546  \n",
              "2    1.149298  2.184784  0.342811  \n",
              "3   -0.888557  0.162310 -0.002793  \n",
              "4    0.391419 -1.365603  0.787762  \n",
              "..        ...       ...       ...  \n",
              "995  0.431419  0.088717  1.188886  \n",
              "996 -0.112571 -1.763636 -1.559081  \n",
              "997 -1.514726 -0.275122  0.864287  \n",
              "998 -0.036233  0.436685 -0.212456  \n",
              "999 -1.251565 -0.603529 -0.879859  \n",
              "\n",
              "[1000 rows x 10 columns]"
            ],
            "text/html": [
              "\n",
              "  <div id=\"df-945804b1-5806-4bc4-aed5-7cff90bd614d\" class=\"colab-df-container\">\n",
              "    <div>\n",
              "<style scoped>\n",
              "    .dataframe tbody tr th:only-of-type {\n",
              "        vertical-align: middle;\n",
              "    }\n",
              "\n",
              "    .dataframe tbody tr th {\n",
              "        vertical-align: top;\n",
              "    }\n",
              "\n",
              "    .dataframe thead th {\n",
              "        text-align: right;\n",
              "    }\n",
              "</style>\n",
              "<table border=\"1\" class=\"dataframe\">\n",
              "  <thead>\n",
              "    <tr style=\"text-align: right;\">\n",
              "      <th></th>\n",
              "      <th>XVPM</th>\n",
              "      <th>GWYH</th>\n",
              "      <th>TRAT</th>\n",
              "      <th>TLLZ</th>\n",
              "      <th>IGGA</th>\n",
              "      <th>HYKR</th>\n",
              "      <th>EDFS</th>\n",
              "      <th>GUUB</th>\n",
              "      <th>MGJM</th>\n",
              "      <th>JHZC</th>\n",
              "    </tr>\n",
              "  </thead>\n",
              "  <tbody>\n",
              "    <tr>\n",
              "      <th>0</th>\n",
              "      <td>1.568522</td>\n",
              "      <td>-0.443435</td>\n",
              "      <td>1.619808</td>\n",
              "      <td>-0.958255</td>\n",
              "      <td>-1.128481</td>\n",
              "      <td>0.138336</td>\n",
              "      <td>0.980493</td>\n",
              "      <td>-0.932794</td>\n",
              "      <td>1.008313</td>\n",
              "      <td>-1.069627</td>\n",
              "    </tr>\n",
              "    <tr>\n",
              "      <th>1</th>\n",
              "      <td>-0.112376</td>\n",
              "      <td>-1.056574</td>\n",
              "      <td>1.741918</td>\n",
              "      <td>-1.504220</td>\n",
              "      <td>0.640009</td>\n",
              "      <td>1.081552</td>\n",
              "      <td>-1.182663</td>\n",
              "      <td>-0.461864</td>\n",
              "      <td>0.258321</td>\n",
              "      <td>-1.041546</td>\n",
              "    </tr>\n",
              "    <tr>\n",
              "      <th>2</th>\n",
              "      <td>0.660647</td>\n",
              "      <td>-0.436981</td>\n",
              "      <td>0.775793</td>\n",
              "      <td>0.213394</td>\n",
              "      <td>-0.053171</td>\n",
              "      <td>2.030872</td>\n",
              "      <td>-1.240707</td>\n",
              "      <td>1.149298</td>\n",
              "      <td>2.184784</td>\n",
              "      <td>0.342811</td>\n",
              "    </tr>\n",
              "    <tr>\n",
              "      <th>3</th>\n",
              "      <td>0.011533</td>\n",
              "      <td>0.191324</td>\n",
              "      <td>-1.433473</td>\n",
              "      <td>-0.100053</td>\n",
              "      <td>-1.507223</td>\n",
              "      <td>-1.753632</td>\n",
              "      <td>-1.183561</td>\n",
              "      <td>-0.888557</td>\n",
              "      <td>0.162310</td>\n",
              "      <td>-0.002793</td>\n",
              "    </tr>\n",
              "    <tr>\n",
              "      <th>4</th>\n",
              "      <td>-0.099059</td>\n",
              "      <td>0.820815</td>\n",
              "      <td>-0.904346</td>\n",
              "      <td>1.609015</td>\n",
              "      <td>-0.282065</td>\n",
              "      <td>-0.365099</td>\n",
              "      <td>-1.095644</td>\n",
              "      <td>0.391419</td>\n",
              "      <td>-1.365603</td>\n",
              "      <td>0.787762</td>\n",
              "    </tr>\n",
              "    <tr>\n",
              "      <th>...</th>\n",
              "      <td>...</td>\n",
              "      <td>...</td>\n",
              "      <td>...</td>\n",
              "      <td>...</td>\n",
              "      <td>...</td>\n",
              "      <td>...</td>\n",
              "      <td>...</td>\n",
              "      <td>...</td>\n",
              "      <td>...</td>\n",
              "      <td>...</td>\n",
              "    </tr>\n",
              "    <tr>\n",
              "      <th>995</th>\n",
              "      <td>0.776682</td>\n",
              "      <td>0.758234</td>\n",
              "      <td>-1.753322</td>\n",
              "      <td>0.507699</td>\n",
              "      <td>0.174588</td>\n",
              "      <td>-1.279354</td>\n",
              "      <td>-1.797957</td>\n",
              "      <td>0.431419</td>\n",
              "      <td>0.088717</td>\n",
              "      <td>1.188886</td>\n",
              "    </tr>\n",
              "    <tr>\n",
              "      <th>996</th>\n",
              "      <td>-0.313446</td>\n",
              "      <td>0.385206</td>\n",
              "      <td>0.885502</td>\n",
              "      <td>-0.083136</td>\n",
              "      <td>-1.208486</td>\n",
              "      <td>0.309242</td>\n",
              "      <td>0.746346</td>\n",
              "      <td>-0.112571</td>\n",
              "      <td>-1.763636</td>\n",
              "      <td>-1.559081</td>\n",
              "    </tr>\n",
              "    <tr>\n",
              "      <th>997</th>\n",
              "      <td>-0.358895</td>\n",
              "      <td>-0.979015</td>\n",
              "      <td>0.837715</td>\n",
              "      <td>0.014018</td>\n",
              "      <td>-1.397424</td>\n",
              "      <td>0.054473</td>\n",
              "      <td>0.164120</td>\n",
              "      <td>-1.514726</td>\n",
              "      <td>-0.275122</td>\n",
              "      <td>0.864287</td>\n",
              "    </tr>\n",
              "    <tr>\n",
              "      <th>998</th>\n",
              "      <td>0.275080</td>\n",
              "      <td>-0.992399</td>\n",
              "      <td>0.030371</td>\n",
              "      <td>1.062954</td>\n",
              "      <td>1.142871</td>\n",
              "      <td>-0.192872</td>\n",
              "      <td>2.051386</td>\n",
              "      <td>-0.036233</td>\n",
              "      <td>0.436685</td>\n",
              "      <td>-0.212456</td>\n",
              "    </tr>\n",
              "    <tr>\n",
              "      <th>999</th>\n",
              "      <td>0.625896</td>\n",
              "      <td>0.795109</td>\n",
              "      <td>1.121800</td>\n",
              "      <td>1.185944</td>\n",
              "      <td>0.555582</td>\n",
              "      <td>-1.133032</td>\n",
              "      <td>0.746559</td>\n",
              "      <td>-1.251565</td>\n",
              "      <td>-0.603529</td>\n",
              "      <td>-0.879859</td>\n",
              "    </tr>\n",
              "  </tbody>\n",
              "</table>\n",
              "<p>1000 rows × 10 columns</p>\n",
              "</div>\n",
              "    <div class=\"colab-df-buttons\">\n",
              "\n",
              "  <div class=\"colab-df-container\">\n",
              "    <button class=\"colab-df-convert\" onclick=\"convertToInteractive('df-945804b1-5806-4bc4-aed5-7cff90bd614d')\"\n",
              "            title=\"Convert this dataframe to an interactive table.\"\n",
              "            style=\"display:none;\">\n",
              "\n",
              "  <svg xmlns=\"http://www.w3.org/2000/svg\" height=\"24px\" viewBox=\"0 -960 960 960\">\n",
              "    <path d=\"M120-120v-720h720v720H120Zm60-500h600v-160H180v160Zm220 220h160v-160H400v160Zm0 220h160v-160H400v160ZM180-400h160v-160H180v160Zm440 0h160v-160H620v160ZM180-180h160v-160H180v160Zm440 0h160v-160H620v160Z\"/>\n",
              "  </svg>\n",
              "    </button>\n",
              "\n",
              "  <style>\n",
              "    .colab-df-container {\n",
              "      display:flex;\n",
              "      gap: 12px;\n",
              "    }\n",
              "\n",
              "    .colab-df-convert {\n",
              "      background-color: #E8F0FE;\n",
              "      border: none;\n",
              "      border-radius: 50%;\n",
              "      cursor: pointer;\n",
              "      display: none;\n",
              "      fill: #1967D2;\n",
              "      height: 32px;\n",
              "      padding: 0 0 0 0;\n",
              "      width: 32px;\n",
              "    }\n",
              "\n",
              "    .colab-df-convert:hover {\n",
              "      background-color: #E2EBFA;\n",
              "      box-shadow: 0px 1px 2px rgba(60, 64, 67, 0.3), 0px 1px 3px 1px rgba(60, 64, 67, 0.15);\n",
              "      fill: #174EA6;\n",
              "    }\n",
              "\n",
              "    .colab-df-buttons div {\n",
              "      margin-bottom: 4px;\n",
              "    }\n",
              "\n",
              "    [theme=dark] .colab-df-convert {\n",
              "      background-color: #3B4455;\n",
              "      fill: #D2E3FC;\n",
              "    }\n",
              "\n",
              "    [theme=dark] .colab-df-convert:hover {\n",
              "      background-color: #434B5C;\n",
              "      box-shadow: 0px 1px 3px 1px rgba(0, 0, 0, 0.15);\n",
              "      filter: drop-shadow(0px 1px 2px rgba(0, 0, 0, 0.3));\n",
              "      fill: #FFFFFF;\n",
              "    }\n",
              "  </style>\n",
              "\n",
              "    <script>\n",
              "      const buttonEl =\n",
              "        document.querySelector('#df-945804b1-5806-4bc4-aed5-7cff90bd614d button.colab-df-convert');\n",
              "      buttonEl.style.display =\n",
              "        google.colab.kernel.accessAllowed ? 'block' : 'none';\n",
              "\n",
              "      async function convertToInteractive(key) {\n",
              "        const element = document.querySelector('#df-945804b1-5806-4bc4-aed5-7cff90bd614d');\n",
              "        const dataTable =\n",
              "          await google.colab.kernel.invokeFunction('convertToInteractive',\n",
              "                                                    [key], {});\n",
              "        if (!dataTable) return;\n",
              "\n",
              "        const docLinkHtml = 'Like what you see? Visit the ' +\n",
              "          '<a target=\"_blank\" href=https://colab.research.google.com/notebooks/data_table.ipynb>data table notebook</a>'\n",
              "          + ' to learn more about interactive tables.';\n",
              "        element.innerHTML = '';\n",
              "        dataTable['output_type'] = 'display_data';\n",
              "        await google.colab.output.renderOutput(dataTable, element);\n",
              "        const docLink = document.createElement('div');\n",
              "        docLink.innerHTML = docLinkHtml;\n",
              "        element.appendChild(docLink);\n",
              "      }\n",
              "    </script>\n",
              "  </div>\n",
              "\n",
              "\n",
              "<div id=\"df-4272ff39-988b-4c78-9886-464de2d9062e\">\n",
              "  <button class=\"colab-df-quickchart\" onclick=\"quickchart('df-4272ff39-988b-4c78-9886-464de2d9062e')\"\n",
              "            title=\"Suggest charts\"\n",
              "            style=\"display:none;\">\n",
              "\n",
              "<svg xmlns=\"http://www.w3.org/2000/svg\" height=\"24px\"viewBox=\"0 0 24 24\"\n",
              "     width=\"24px\">\n",
              "    <g>\n",
              "        <path d=\"M19 3H5c-1.1 0-2 .9-2 2v14c0 1.1.9 2 2 2h14c1.1 0 2-.9 2-2V5c0-1.1-.9-2-2-2zM9 17H7v-7h2v7zm4 0h-2V7h2v10zm4 0h-2v-4h2v4z\"/>\n",
              "    </g>\n",
              "</svg>\n",
              "  </button>\n",
              "\n",
              "<style>\n",
              "  .colab-df-quickchart {\n",
              "      --bg-color: #E8F0FE;\n",
              "      --fill-color: #1967D2;\n",
              "      --hover-bg-color: #E2EBFA;\n",
              "      --hover-fill-color: #174EA6;\n",
              "      --disabled-fill-color: #AAA;\n",
              "      --disabled-bg-color: #DDD;\n",
              "  }\n",
              "\n",
              "  [theme=dark] .colab-df-quickchart {\n",
              "      --bg-color: #3B4455;\n",
              "      --fill-color: #D2E3FC;\n",
              "      --hover-bg-color: #434B5C;\n",
              "      --hover-fill-color: #FFFFFF;\n",
              "      --disabled-bg-color: #3B4455;\n",
              "      --disabled-fill-color: #666;\n",
              "  }\n",
              "\n",
              "  .colab-df-quickchart {\n",
              "    background-color: var(--bg-color);\n",
              "    border: none;\n",
              "    border-radius: 50%;\n",
              "    cursor: pointer;\n",
              "    display: none;\n",
              "    fill: var(--fill-color);\n",
              "    height: 32px;\n",
              "    padding: 0;\n",
              "    width: 32px;\n",
              "  }\n",
              "\n",
              "  .colab-df-quickchart:hover {\n",
              "    background-color: var(--hover-bg-color);\n",
              "    box-shadow: 0 1px 2px rgba(60, 64, 67, 0.3), 0 1px 3px 1px rgba(60, 64, 67, 0.15);\n",
              "    fill: var(--button-hover-fill-color);\n",
              "  }\n",
              "\n",
              "  .colab-df-quickchart-complete:disabled,\n",
              "  .colab-df-quickchart-complete:disabled:hover {\n",
              "    background-color: var(--disabled-bg-color);\n",
              "    fill: var(--disabled-fill-color);\n",
              "    box-shadow: none;\n",
              "  }\n",
              "\n",
              "  .colab-df-spinner {\n",
              "    border: 2px solid var(--fill-color);\n",
              "    border-color: transparent;\n",
              "    border-bottom-color: var(--fill-color);\n",
              "    animation:\n",
              "      spin 1s steps(1) infinite;\n",
              "  }\n",
              "\n",
              "  @keyframes spin {\n",
              "    0% {\n",
              "      border-color: transparent;\n",
              "      border-bottom-color: var(--fill-color);\n",
              "      border-left-color: var(--fill-color);\n",
              "    }\n",
              "    20% {\n",
              "      border-color: transparent;\n",
              "      border-left-color: var(--fill-color);\n",
              "      border-top-color: var(--fill-color);\n",
              "    }\n",
              "    30% {\n",
              "      border-color: transparent;\n",
              "      border-left-color: var(--fill-color);\n",
              "      border-top-color: var(--fill-color);\n",
              "      border-right-color: var(--fill-color);\n",
              "    }\n",
              "    40% {\n",
              "      border-color: transparent;\n",
              "      border-right-color: var(--fill-color);\n",
              "      border-top-color: var(--fill-color);\n",
              "    }\n",
              "    60% {\n",
              "      border-color: transparent;\n",
              "      border-right-color: var(--fill-color);\n",
              "    }\n",
              "    80% {\n",
              "      border-color: transparent;\n",
              "      border-right-color: var(--fill-color);\n",
              "      border-bottom-color: var(--fill-color);\n",
              "    }\n",
              "    90% {\n",
              "      border-color: transparent;\n",
              "      border-bottom-color: var(--fill-color);\n",
              "    }\n",
              "  }\n",
              "</style>\n",
              "\n",
              "  <script>\n",
              "    async function quickchart(key) {\n",
              "      const quickchartButtonEl =\n",
              "        document.querySelector('#' + key + ' button');\n",
              "      quickchartButtonEl.disabled = true;  // To prevent multiple clicks.\n",
              "      quickchartButtonEl.classList.add('colab-df-spinner');\n",
              "      try {\n",
              "        const charts = await google.colab.kernel.invokeFunction(\n",
              "            'suggestCharts', [key], {});\n",
              "      } catch (error) {\n",
              "        console.error('Error during call to suggestCharts:', error);\n",
              "      }\n",
              "      quickchartButtonEl.classList.remove('colab-df-spinner');\n",
              "      quickchartButtonEl.classList.add('colab-df-quickchart-complete');\n",
              "    }\n",
              "    (() => {\n",
              "      let quickchartButtonEl =\n",
              "        document.querySelector('#df-4272ff39-988b-4c78-9886-464de2d9062e button');\n",
              "      quickchartButtonEl.style.display =\n",
              "        google.colab.kernel.accessAllowed ? 'block' : 'none';\n",
              "    })();\n",
              "  </script>\n",
              "</div>\n",
              "\n",
              "  <div id=\"id_b21c5a7a-379e-410b-9c99-db6eb43800a8\">\n",
              "    <style>\n",
              "      .colab-df-generate {\n",
              "        background-color: #E8F0FE;\n",
              "        border: none;\n",
              "        border-radius: 50%;\n",
              "        cursor: pointer;\n",
              "        display: none;\n",
              "        fill: #1967D2;\n",
              "        height: 32px;\n",
              "        padding: 0 0 0 0;\n",
              "        width: 32px;\n",
              "      }\n",
              "\n",
              "      .colab-df-generate:hover {\n",
              "        background-color: #E2EBFA;\n",
              "        box-shadow: 0px 1px 2px rgba(60, 64, 67, 0.3), 0px 1px 3px 1px rgba(60, 64, 67, 0.15);\n",
              "        fill: #174EA6;\n",
              "      }\n",
              "\n",
              "      [theme=dark] .colab-df-generate {\n",
              "        background-color: #3B4455;\n",
              "        fill: #D2E3FC;\n",
              "      }\n",
              "\n",
              "      [theme=dark] .colab-df-generate:hover {\n",
              "        background-color: #434B5C;\n",
              "        box-shadow: 0px 1px 3px 1px rgba(0, 0, 0, 0.15);\n",
              "        filter: drop-shadow(0px 1px 2px rgba(0, 0, 0, 0.3));\n",
              "        fill: #FFFFFF;\n",
              "      }\n",
              "    </style>\n",
              "    <button class=\"colab-df-generate\" onclick=\"generateWithVariable('knn_data_2')\"\n",
              "            title=\"Generate code using this dataframe.\"\n",
              "            style=\"display:none;\">\n",
              "\n",
              "  <svg xmlns=\"http://www.w3.org/2000/svg\" height=\"24px\"viewBox=\"0 0 24 24\"\n",
              "       width=\"24px\">\n",
              "    <path d=\"M7,19H8.4L18.45,9,17,7.55,7,17.6ZM5,21V16.75L18.45,3.32a2,2,0,0,1,2.83,0l1.4,1.43a1.91,1.91,0,0,1,.58,1.4,1.91,1.91,0,0,1-.58,1.4L9.25,21ZM18.45,9,17,7.55Zm-12,3A5.31,5.31,0,0,0,4.9,8.1,5.31,5.31,0,0,0,1,6.5,5.31,5.31,0,0,0,4.9,4.9,5.31,5.31,0,0,0,6.5,1,5.31,5.31,0,0,0,8.1,4.9,5.31,5.31,0,0,0,12,6.5,5.46,5.46,0,0,0,6.5,12Z\"/>\n",
              "  </svg>\n",
              "    </button>\n",
              "    <script>\n",
              "      (() => {\n",
              "      const buttonEl =\n",
              "        document.querySelector('#id_b21c5a7a-379e-410b-9c99-db6eb43800a8 button.colab-df-generate');\n",
              "      buttonEl.style.display =\n",
              "        google.colab.kernel.accessAllowed ? 'block' : 'none';\n",
              "\n",
              "      buttonEl.onclick = () => {\n",
              "        google.colab.notebook.generateWithVariable('knn_data_2');\n",
              "      }\n",
              "      })();\n",
              "    </script>\n",
              "  </div>\n",
              "\n",
              "    </div>\n",
              "  </div>\n"
            ]
          },
          "metadata": {},
          "execution_count": 201
        }
      ],
      "source": [
        "knn_data_2 = pd.DataFrame(scaled_features, columns = knn_data.columns[:-1])\n",
        "knn_data_2"
      ]
    },
    {
      "cell_type": "markdown",
      "metadata": {
        "id": "uh1Poykl_eYo"
      },
      "source": [
        "# Train Test Split\n",
        "\n",
        "**Use train_test_split to split your data into a training set and a testing set.**"
      ]
    },
    {
      "cell_type": "code",
      "execution_count": 202,
      "metadata": {
        "collapsed": true,
        "id": "xzRSCohj_eYo"
      },
      "outputs": [],
      "source": [
        "from sklearn.model_selection import train_test_split"
      ]
    },
    {
      "cell_type": "code",
      "execution_count": 203,
      "metadata": {
        "collapsed": true,
        "id": "d2JPF7Zb_eYo"
      },
      "outputs": [],
      "source": [
        "X = knn_data_2\n",
        "y = knn_data['TARGET CLASS']\n",
        "X_train, X_test, y_train, y_test = train_test_split(X,y,test_size = 0.33,random_state=101)"
      ]
    },
    {
      "cell_type": "markdown",
      "metadata": {
        "id": "KTMMYCD-_eYo"
      },
      "source": [
        "# Using KNN\n",
        "\n",
        "**Import KNeighborsClassifier from scikit learn.**"
      ]
    },
    {
      "cell_type": "code",
      "execution_count": 203,
      "metadata": {
        "collapsed": true,
        "id": "VNAzEacW_eYo"
      },
      "outputs": [],
      "source": []
    },
    {
      "cell_type": "markdown",
      "metadata": {
        "id": "gTnFNoTE_eYo"
      },
      "source": [
        "**Create a KNN model instance with n_neighbors=1**"
      ]
    },
    {
      "cell_type": "code",
      "execution_count": 204,
      "metadata": {
        "collapsed": true,
        "id": "q64PiJkg_eYp"
      },
      "outputs": [],
      "source": [
        "model = KNeighborsClassifier(n_neighbors=1)"
      ]
    },
    {
      "cell_type": "markdown",
      "metadata": {
        "id": "_Whw0Jpp_eYp"
      },
      "source": [
        "**Fit this KNN model to the training data.**"
      ]
    },
    {
      "cell_type": "code",
      "execution_count": 205,
      "metadata": {
        "colab": {
          "base_uri": "https://localhost:8080/",
          "height": 74
        },
        "id": "Hd0G_nhQ_eYp",
        "outputId": "fb41242d-dbdf-4ed2-d91d-d2c20bd2ceab"
      },
      "outputs": [
        {
          "output_type": "execute_result",
          "data": {
            "text/plain": [
              "KNeighborsClassifier(n_neighbors=1)"
            ],
            "text/html": [
              "<style>#sk-container-id-14 {color: black;background-color: white;}#sk-container-id-14 pre{padding: 0;}#sk-container-id-14 div.sk-toggleable {background-color: white;}#sk-container-id-14 label.sk-toggleable__label {cursor: pointer;display: block;width: 100%;margin-bottom: 0;padding: 0.3em;box-sizing: border-box;text-align: center;}#sk-container-id-14 label.sk-toggleable__label-arrow:before {content: \"▸\";float: left;margin-right: 0.25em;color: #696969;}#sk-container-id-14 label.sk-toggleable__label-arrow:hover:before {color: black;}#sk-container-id-14 div.sk-estimator:hover label.sk-toggleable__label-arrow:before {color: black;}#sk-container-id-14 div.sk-toggleable__content {max-height: 0;max-width: 0;overflow: hidden;text-align: left;background-color: #f0f8ff;}#sk-container-id-14 div.sk-toggleable__content pre {margin: 0.2em;color: black;border-radius: 0.25em;background-color: #f0f8ff;}#sk-container-id-14 input.sk-toggleable__control:checked~div.sk-toggleable__content {max-height: 200px;max-width: 100%;overflow: auto;}#sk-container-id-14 input.sk-toggleable__control:checked~label.sk-toggleable__label-arrow:before {content: \"▾\";}#sk-container-id-14 div.sk-estimator input.sk-toggleable__control:checked~label.sk-toggleable__label {background-color: #d4ebff;}#sk-container-id-14 div.sk-label input.sk-toggleable__control:checked~label.sk-toggleable__label {background-color: #d4ebff;}#sk-container-id-14 input.sk-hidden--visually {border: 0;clip: rect(1px 1px 1px 1px);clip: rect(1px, 1px, 1px, 1px);height: 1px;margin: -1px;overflow: hidden;padding: 0;position: absolute;width: 1px;}#sk-container-id-14 div.sk-estimator {font-family: monospace;background-color: #f0f8ff;border: 1px dotted black;border-radius: 0.25em;box-sizing: border-box;margin-bottom: 0.5em;}#sk-container-id-14 div.sk-estimator:hover {background-color: #d4ebff;}#sk-container-id-14 div.sk-parallel-item::after {content: \"\";width: 100%;border-bottom: 1px solid gray;flex-grow: 1;}#sk-container-id-14 div.sk-label:hover label.sk-toggleable__label {background-color: #d4ebff;}#sk-container-id-14 div.sk-serial::before {content: \"\";position: absolute;border-left: 1px solid gray;box-sizing: border-box;top: 0;bottom: 0;left: 50%;z-index: 0;}#sk-container-id-14 div.sk-serial {display: flex;flex-direction: column;align-items: center;background-color: white;padding-right: 0.2em;padding-left: 0.2em;position: relative;}#sk-container-id-14 div.sk-item {position: relative;z-index: 1;}#sk-container-id-14 div.sk-parallel {display: flex;align-items: stretch;justify-content: center;background-color: white;position: relative;}#sk-container-id-14 div.sk-item::before, #sk-container-id-14 div.sk-parallel-item::before {content: \"\";position: absolute;border-left: 1px solid gray;box-sizing: border-box;top: 0;bottom: 0;left: 50%;z-index: -1;}#sk-container-id-14 div.sk-parallel-item {display: flex;flex-direction: column;z-index: 1;position: relative;background-color: white;}#sk-container-id-14 div.sk-parallel-item:first-child::after {align-self: flex-end;width: 50%;}#sk-container-id-14 div.sk-parallel-item:last-child::after {align-self: flex-start;width: 50%;}#sk-container-id-14 div.sk-parallel-item:only-child::after {width: 0;}#sk-container-id-14 div.sk-dashed-wrapped {border: 1px dashed gray;margin: 0 0.4em 0.5em 0.4em;box-sizing: border-box;padding-bottom: 0.4em;background-color: white;}#sk-container-id-14 div.sk-label label {font-family: monospace;font-weight: bold;display: inline-block;line-height: 1.2em;}#sk-container-id-14 div.sk-label-container {text-align: center;}#sk-container-id-14 div.sk-container {/* jupyter's `normalize.less` sets `[hidden] { display: none; }` but bootstrap.min.css set `[hidden] { display: none !important; }` so we also need the `!important` here to be able to override the default hidden behavior on the sphinx rendered scikit-learn.org. See: https://github.com/scikit-learn/scikit-learn/issues/21755 */display: inline-block !important;position: relative;}#sk-container-id-14 div.sk-text-repr-fallback {display: none;}</style><div id=\"sk-container-id-14\" class=\"sk-top-container\"><div class=\"sk-text-repr-fallback\"><pre>KNeighborsClassifier(n_neighbors=1)</pre><b>In a Jupyter environment, please rerun this cell to show the HTML representation or trust the notebook. <br />On GitHub, the HTML representation is unable to render, please try loading this page with nbviewer.org.</b></div><div class=\"sk-container\" hidden><div class=\"sk-item\"><div class=\"sk-estimator sk-toggleable\"><input class=\"sk-toggleable__control sk-hidden--visually\" id=\"sk-estimator-id-14\" type=\"checkbox\" checked><label for=\"sk-estimator-id-14\" class=\"sk-toggleable__label sk-toggleable__label-arrow\">KNeighborsClassifier</label><div class=\"sk-toggleable__content\"><pre>KNeighborsClassifier(n_neighbors=1)</pre></div></div></div></div></div>"
            ]
          },
          "metadata": {},
          "execution_count": 205
        }
      ],
      "source": [
        "model.fit(X_train, y_train)"
      ]
    },
    {
      "cell_type": "markdown",
      "metadata": {
        "id": "_yX3tQyM_eYp"
      },
      "source": [
        "# Predictions and Evaluations\n",
        "Let's evaluate our KNN model!"
      ]
    },
    {
      "cell_type": "markdown",
      "metadata": {
        "id": "m_z2bItQ_eYp"
      },
      "source": [
        "**Use the predict method to predict values using your KNN model and X_test.**"
      ]
    },
    {
      "cell_type": "code",
      "execution_count": 206,
      "metadata": {
        "id": "9QLRhrkv_eYp"
      },
      "outputs": [],
      "source": [
        "pred = model.predict(X_test)"
      ]
    },
    {
      "cell_type": "markdown",
      "metadata": {
        "id": "FwThho2L_eYp"
      },
      "source": [
        "** Create a confusion matrix and classification report.**"
      ]
    },
    {
      "cell_type": "code",
      "execution_count": 207,
      "metadata": {
        "collapsed": true,
        "id": "qCSvlPSF_eYp"
      },
      "outputs": [],
      "source": [
        "from sklearn.metrics import classification_report, confusion_matrix"
      ]
    },
    {
      "cell_type": "code",
      "execution_count": 208,
      "metadata": {
        "colab": {
          "base_uri": "https://localhost:8080/"
        },
        "id": "brSiV55h_eYp",
        "outputId": "443693d1-ec72-4505-d603-1b35877faf10"
      },
      "outputs": [
        {
          "output_type": "stream",
          "name": "stdout",
          "text": [
            "              precision    recall  f1-score   support\n",
            "\n",
            "           0       0.71      0.71      0.71       162\n",
            "           1       0.72      0.71      0.72       168\n",
            "\n",
            "    accuracy                           0.71       330\n",
            "   macro avg       0.71      0.71      0.71       330\n",
            "weighted avg       0.71      0.71      0.71       330\n",
            "\n"
          ]
        }
      ],
      "source": [
        "print(classification_report(y_test, pred))"
      ]
    },
    {
      "cell_type": "markdown",
      "source": [
        "### Elbow method to find optimal K Value"
      ],
      "metadata": {
        "id": "OAB10uq_VAtT"
      }
    },
    {
      "cell_type": "code",
      "execution_count": 208,
      "metadata": {
        "id": "acp6Xl5g_eYq"
      },
      "outputs": [],
      "source": []
    },
    {
      "cell_type": "markdown",
      "metadata": {
        "id": "3C7CPvIG_eYq"
      },
      "source": [
        "# Choosing a K Value\n",
        "Let's go ahead and use the elbow method to pick a good K Value!\n",
        "\n",
        "** Create a for loop that trains various KNN models with different k values, then keep track of the error_rate for each of these models with a list. Refer to the lecture if you are confused on this step.**"
      ]
    },
    {
      "cell_type": "code",
      "execution_count": 209,
      "metadata": {
        "collapsed": true,
        "id": "zlnxlfJT_eYq"
      },
      "outputs": [],
      "source": [
        "err_rate = []\n",
        "\n",
        "for i in range(1,60):\n",
        "  model = KNeighborsClassifier(n_neighbors=i)\n",
        "  model.fit(X_train, y_train)\n",
        "  pred_i = model.predict(X_test)\n",
        "  err_rate.append(np.mean(pred_i != y_test))"
      ]
    },
    {
      "cell_type": "markdown",
      "metadata": {
        "id": "Rym7_3ki_eYq"
      },
      "source": [
        "**Now create the following plot using the information from your for loop.**"
      ]
    },
    {
      "cell_type": "code",
      "execution_count": 210,
      "metadata": {
        "colab": {
          "base_uri": "https://localhost:8080/",
          "height": 562
        },
        "id": "LI3XE4ZT_eYq",
        "outputId": "00a2444e-7a7e-4f5c-c832-468a9a84e3bc"
      },
      "outputs": [
        {
          "output_type": "execute_result",
          "data": {
            "text/plain": [
              "Text(0.5, 1.0, 'Error rate vs K Value')"
            ]
          },
          "metadata": {},
          "execution_count": 210
        },
        {
          "output_type": "display_data",
          "data": {
            "text/plain": [
              "<Figure size 1000x600 with 1 Axes>"
            ],
            "image/png": "[encoded data removed]"
          },
          "metadata": {}
        }
      ],
      "source": [
        "plt.figure(figsize= (10,6))\n",
        "plt.plot(range(1,60),err_rate, color = 'blue', linestyle = '--', marker = 'o',\n",
        "         markerfacecolor = 'red', markersize = 10)\n",
        "plt.title('Error rate vs K Value')\n"
      ]
    },
    {
      "cell_type": "markdown",
      "source": [
        "Lets find the minimum value of error rate to find optimal k value using min function"
      ],
      "metadata": {
        "id": "RgZ3TCJDXfo1"
      }
    },
    {
      "cell_type": "code",
      "source": [
        "min_error = min(err_rate)\n",
        "min_error_index = err_rate.index(min_error)\n",
        "optimal_k = min_error_index+1\n",
        "print(optimal_k)"
      ],
      "metadata": {
        "colab": {
          "base_uri": "https://localhost:8080/"
        },
        "id": "UxE__Md1Xtdc",
        "outputId": "acdd77eb-c0b2-4b94-e8b1-f684e9d9a79f"
      },
      "execution_count": 211,
      "outputs": [
        {
          "output_type": "stream",
          "name": "stdout",
          "text": [
            "50\n"
          ]
        }
      ]
    },
    {
      "cell_type": "markdown",
      "metadata": {
        "id": "EresvcIY_eYr"
      },
      "source": [
        "## Retrain with new K Value\n",
        "\n",
        "**Retrain your model with the best K value (up to you to decide what you want) and re-do the classification report and the confusion matrix.**"
      ]
    },
    {
      "cell_type": "code",
      "execution_count": 212,
      "metadata": {
        "colab": {
          "base_uri": "https://localhost:8080/"
        },
        "id": "HH-lV6fZ_eYr",
        "outputId": "f6626117-f8d7-4126-aade-b46d4f42ad04"
      },
      "outputs": [
        {
          "output_type": "stream",
          "name": "stdout",
          "text": [
            "              precision    recall  f1-score   support\n",
            "\n",
            "           0       0.83      0.86      0.84       162\n",
            "           1       0.86      0.83      0.85       168\n",
            "\n",
            "    accuracy                           0.85       330\n",
            "   macro avg       0.85      0.85      0.85       330\n",
            "weighted avg       0.85      0.85      0.85       330\n",
            "\n",
            "[[139  23]\n",
            " [ 28 140]]\n"
          ]
        }
      ],
      "source": [
        "def k_model(X_train,y_train,X_test = None, y_test = None, neignbour_value = 1 ):\n",
        "  model = KNeighborsClassifier(n_neighbors= neignbour_value)\n",
        "  model.fit(X_train,y_train)\n",
        "  pred = model.predict(X_test)\n",
        "  print(classification_report(y_test, pred))\n",
        "  print(confusion_matrix(y_test, pred))\n",
        "\n",
        "k_model(X_train, y_train,X_test,y_test,50)"
      ]
    },
    {
      "cell_type": "markdown",
      "metadata": {
        "id": "PYEOtYhd_eYr"
      },
      "source": [
        "# Great Job!"
      ]
    },
    {
      "cell_type": "markdown",
      "source": [
        "Use Logistic Regression"
      ],
      "metadata": {
        "id": "nn-BoNCFgG0g"
      }
    },
    {
      "cell_type": "code",
      "source": [
        "def model(X_train,y_train,X_test = None, y_test = None, select_model = KNeighborsClassifier(n_neighbors = optimal_k )) :\n",
        "  model = select_model\n",
        "  model.fit(X_train,y_train)\n",
        "  pred = model.predict(X_test)\n",
        "  print(classification_report(y_test, pred))\n",
        "  print(confusion_matrix(y_test, pred))\n",
        "\n",
        "model(X_train, y_train, X_test, y_test, LogisticRegression())"
      ],
      "metadata": {
        "colab": {
          "base_uri": "https://localhost:8080/"
        },
        "id": "GYScpR28gGT4",
        "outputId": "7568ccfd-704e-4637-ad5c-3dc8cbaa35e9"
      },
      "execution_count": 217,
      "outputs": [
        {
          "output_type": "stream",
          "name": "stdout",
          "text": [
            "              precision    recall  f1-score   support\n",
            "\n",
            "           0       0.82      0.85      0.83       162\n",
            "           1       0.85      0.82      0.83       168\n",
            "\n",
            "    accuracy                           0.83       330\n",
            "   macro avg       0.83      0.83      0.83       330\n",
            "weighted avg       0.83      0.83      0.83       330\n",
            "\n",
            "[[137  25]\n",
            " [ 30 138]]\n"
          ]
        }
      ]
    },
    {
      "cell_type": "markdown",
      "source": [
        "Using Naive Bayes"
      ],
      "metadata": {
        "id": "jpB8cQPkj_qN"
      }
    },
    {
      "cell_type": "code",
      "source": [
        "model(X_train, y_train, X_test, y_test, GaussianNB())"
      ],
      "metadata": {
        "colab": {
          "base_uri": "https://localhost:8080/"
        },
        "id": "UV1rLDGSkBqm",
        "outputId": "29a71fb9-638c-4ae5-9ff8-c18155d82448"
      },
      "execution_count": 218,
      "outputs": [
        {
          "output_type": "stream",
          "name": "stdout",
          "text": [
            "              precision    recall  f1-score   support\n",
            "\n",
            "           0       0.82      0.81      0.81       162\n",
            "           1       0.82      0.83      0.82       168\n",
            "\n",
            "    accuracy                           0.82       330\n",
            "   macro avg       0.82      0.82      0.82       330\n",
            "weighted avg       0.82      0.82      0.82       330\n",
            "\n",
            "[[131  31]\n",
            " [ 29 139]]\n"
          ]
        }
      ]
    },
    {
      "cell_type": "markdown",
      "source": [
        "Use SVM"
      ],
      "metadata": {
        "id": "JGWRUdi-kF-y"
      }
    },
    {
      "cell_type": "code",
      "source": [
        "model(X_train, y_train, X_test, y_test, SVC())"
      ],
      "metadata": {
        "colab": {
          "base_uri": "https://localhost:8080/"
        },
        "id": "gfAPhoiakFAw",
        "outputId": "a7d3df45-c212-40ad-a98a-d79a8355bba1"
      },
      "execution_count": 219,
      "outputs": [
        {
          "output_type": "stream",
          "name": "stdout",
          "text": [
            "              precision    recall  f1-score   support\n",
            "\n",
            "           0       0.83      0.82      0.83       162\n",
            "           1       0.83      0.84      0.83       168\n",
            "\n",
            "    accuracy                           0.83       330\n",
            "   macro avg       0.83      0.83      0.83       330\n",
            "weighted avg       0.83      0.83      0.83       330\n",
            "\n",
            "[[133  29]\n",
            " [ 27 141]]\n"
          ]
        }
      ]
    },
    {
      "cell_type": "markdown",
      "source": [
        "# Additional\n",
        "We can also use some python inbuilt function to find the important variables for our model as shown in below example code"
      ],
      "metadata": {
        "id": "sxSzSPmrd8S3"
      }
    },
    {
      "cell_type": "code",
      "source": [
        "# from sklearn.neighbors import KNeighborsClassifier\n",
        "# from sklearn.metrics import classification_report, confusion_matrix\n",
        "# from sklearn.feature_selection import SelectKBest, f_classif\n",
        "# from sklearn.model_selection import train_test_split\n",
        "# import pandas as pd\n",
        "\n",
        "# def k_model(X_train, y_train, X_test, y_test, neighbor_value=1, k_features=5):\n",
        "#     # Feature selection using SelectKBest\n",
        "#     selector = SelectKBest(score_func=f_classif, k=k_features)\n",
        "#     X_train_selected = selector.fit_transform(X_train, y_train)\n",
        "#     X_test_selected = selector.transform(X_test)\n",
        "#     selected_features = X_train.columns[selector.get_support()]\n",
        "\n",
        "#     # Train KNN model\n",
        "#     model = KNeighborsClassifier(n_neighbors=neighbor_value)\n",
        "#     model.fit(X_train_selected, y_train)\n",
        "\n",
        "#     # Make predictions\n",
        "#     pred = model.predict(X_test_selected)\n",
        "\n",
        "#     # Evaluate the model\n",
        "#     print(\"Selected Features:\", selected_features)\n",
        "#     print(classification_report(y_test, pred))\n",
        "#     print(confusion_matrix(y_test, pred))\n",
        "\n",
        "# # Assuming you have your data loaded and split into X_train, X_test, y_train, y_test\n",
        "# # Replace this with your actual dataset loading and train-test split\n",
        "# k_model(X_train, y_train, X_test, y_test, neighbor_value=50, k_features=10)\n"
      ],
      "metadata": {
        "id": "WEYDcoTweale"
      },
      "execution_count": 214,
      "outputs": []
    },
    {
      "cell_type": "markdown",
      "source": [
        "Alternate code for finding best classifiers is given below"
      ],
      "metadata": {
        "id": "4qGTWquklSAh"
      }
    },
    {
      "cell_type": "code",
      "source": [
        "from sklearn.metrics import accuracy_score\n",
        "from sklearn.neighbors import KNeighborsClassifier\n",
        "from sklearn.linear_model import LogisticRegression\n",
        "from sklearn.naive_bayes import GaussianNB\n",
        "from sklearn.svm import SVC\n",
        "\n",
        "def model(X_train, y_train, X_test=None, y_test=None, select_model=None):\n",
        "    if X_test is None or y_test is None:\n",
        "        raise ValueError(\"Test data (X_test and y_test) cannot be None.\")\n",
        "\n",
        "    if select_model is None:\n",
        "        raise ValueError(\"A model must be provided.\")\n",
        "\n",
        "    model = select_model\n",
        "    model.fit(X_train, y_train)\n",
        "    pred = model.predict(X_test)\n",
        "\n",
        "    print(classification_report(y_test, pred))\n",
        "    print(confusion_matrix(y_test, pred))\n",
        "\n",
        "    return accuracy_score(y_test, pred)\n",
        "\n",
        "# Assuming you have X_train, X_test, y_train, and y_test already defined\n",
        "\n",
        "# Test different classifiers and select the best\n",
        "classifiers = {\n",
        "    'KNeighborsClassifier': KNeighborsClassifier(n_neighbors=optimal_k),\n",
        "    'LogisticRegression': LogisticRegression(),\n",
        "    'GaussianNB': GaussianNB(),\n",
        "    'SVC': SVC()\n",
        "}\n",
        "\n",
        "accuracies = {}\n",
        "for clf_name, clf in classifiers.items():\n",
        "    accuracies[clf_name] = model(X_train, y_train, X_test, y_test, select_model=clf)\n",
        "\n",
        "best_classifier = max(accuracies, key=accuracies.get)\n",
        "print(f\"The best classifier is: {best_classifier} with accuracy: {accuracies[best_classifier]}\")\n"
      ],
      "metadata": {
        "colab": {
          "base_uri": "https://localhost:8080/"
        },
        "id": "ky3OhQTslRc3",
        "outputId": "76dfce05-cf4f-45ab-a07d-99b5e572e4a5"
      },
      "execution_count": 220,
      "outputs": [
        {
          "output_type": "stream",
          "name": "stdout",
          "text": [
            "              precision    recall  f1-score   support\n",
            "\n",
            "           0       0.83      0.86      0.84       162\n",
            "           1       0.86      0.83      0.85       168\n",
            "\n",
            "    accuracy                           0.85       330\n",
            "   macro avg       0.85      0.85      0.85       330\n",
            "weighted avg       0.85      0.85      0.85       330\n",
            "\n",
            "[[139  23]\n",
            " [ 28 140]]\n",
            "              precision    recall  f1-score   support\n",
            "\n",
            "           0       0.82      0.85      0.83       162\n",
            "           1       0.85      0.82      0.83       168\n",
            "\n",
            "    accuracy                           0.83       330\n",
            "   macro avg       0.83      0.83      0.83       330\n",
            "weighted avg       0.83      0.83      0.83       330\n",
            "\n",
            "[[137  25]\n",
            " [ 30 138]]\n",
            "              precision    recall  f1-score   support\n",
            "\n",
            "           0       0.82      0.81      0.81       162\n",
            "           1       0.82      0.83      0.82       168\n",
            "\n",
            "    accuracy                           0.82       330\n",
            "   macro avg       0.82      0.82      0.82       330\n",
            "weighted avg       0.82      0.82      0.82       330\n",
            "\n",
            "[[131  31]\n",
            " [ 29 139]]\n",
            "              precision    recall  f1-score   support\n",
            "\n",
            "           0       0.83      0.82      0.83       162\n",
            "           1       0.83      0.84      0.83       168\n",
            "\n",
            "    accuracy                           0.83       330\n",
            "   macro avg       0.83      0.83      0.83       330\n",
            "weighted avg       0.83      0.83      0.83       330\n",
            "\n",
            "[[133  29]\n",
            " [ 27 141]]\n",
            "The best classifier is: KNeighborsClassifier with accuracy: 0.8454545454545455\n"
          ]
        }
      ]
    }
  ],
  "metadata": {
    "kernelspec": {
      "display_name": "Python 3",
      "language": "python",
      "name": "python3"
    },
    "language_info": {
      "codemirror_mode": {
        "name": "ipython",
        "version": 3
      },
      "file_extension": ".py",
      "mimetype": "text/x-python",
      "name": "python",
      "nbconvert_exporter": "python",
      "pygments_lexer": "ipython3",
      "version": "3.5.1"
    },
    "colab": {
      "provenance": [],
      "toc_visible": true,
      "include_colab_link": true
    }
  },
  "nbformat": 4,
  "nbformat_minor": 0
}